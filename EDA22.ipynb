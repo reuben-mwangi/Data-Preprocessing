{
  "nbformat": 4,
  "nbformat_minor": 0,
  "metadata": {
    "colab": {
      "private_outputs": true,
      "provenance": [],
      "collapsed_sections": [],
      "authorship_tag": "ABX9TyMLv9yflV+BOILkxa5kfDQL",
      "include_colab_link": true
    },
    "kernelspec": {
      "name": "python3",
      "display_name": "Python 3"
    },
    "language_info": {
      "name": "python"
    }
  },
  "cells": [
    {
      "cell_type": "markdown",
      "metadata": {
        "id": "view-in-github",
        "colab_type": "text"
      },
      "source": [
        "<a href=\"https://colab.research.google.com/github/reuben-mwangi/Data-Preprocessing/blob/main/EDA22.ipynb\" target=\"_parent\"><img src=\"https://colab.research.google.com/assets/colab-badge.svg\" alt=\"Open In Colab\"/></a>"
      ]
    },
    {
      "cell_type": "markdown",
      "source": [
        "# Exploratory Data Analysis for Beginners 🤩\n",
        "\n",
        "## Introduction\n",
        "\n",
        "We are living in an ever-evolving world, and technology has accelerated this process to boundless new possibilities. Digital revolution is making the world increasingly data-driven and to keep up with this transformation, businesses have to incorporate data analytics into their strategic vision and use it to get some mind-blowing insights for wise decision making.\n",
        "\n",
        "Turns out, the recipe📃 to these insights, lies hidden in one acronym known as EDA (Exploratory Data Analysis). As the name suggests, it is a process used to probe various datasets and extract usefuL information from them which is often combined with data visualizations.\n",
        "\n"
      ],
      "metadata": {
        "id": "y_ZOiH4dZSOP"
      }
    },
    {
      "cell_type": "markdown",
      "source": [
        "# Why Exploratory Data Analysis?🤔\n",
        "\n",
        "It can assist in finding glaring errors, better understanding data patterns, spotting outliers or unusual occurrences, and discovering intriguing relations between the variables or new variables altogether. Features obtained after EDA is done, can then be used for more complex data analysis or modelling, including machine learning.\n",
        "\n",
        "To better illustrate the idea behind EDA, let’s take a sample dataset and embark on this quest for insights and what better than books 📚 to get started with. The dataset that is going to be used here is of Amazon’s Bestselling books from 2009–2019."
      ],
      "metadata": {
        "id": "eaoloIFEZ-qD"
      }
    },
    {
      "cell_type": "markdown",
      "source": [
        "# Importing necessary libraries\n",
        "\n",
        "For our analysis here, we’d be requiring pandas, numpy, matplot and seaborn library."
      ],
      "metadata": {
        "id": "ILNZ4eu2ad0u"
      }
    },
    {
      "cell_type": "code",
      "source": [
        "import pandas as pd\n",
        "import  matplotlib.pyplot as plt\n",
        "import numpy as np\n",
        "import seaborn as sns"
      ],
      "metadata": {
        "id": "-61PZxFyaeo2"
      },
      "execution_count": null,
      "outputs": []
    },
    {
      "cell_type": "markdown",
      "source": [
        "# Reading and understanding the dataset\n",
        "\n",
        "Using pandas read_csv function to read the loaded dataset and head() and tail() functions to look at the first and last five rows of data and the variables with their respective values. The column values are basically features that will be used to analyse the data."
      ],
      "metadata": {
        "id": "pjWY3JkGbJz7"
      }
    },
    {
      "cell_type": "code",
      "source": [
        "# https://www.kaggle.com/code/pritampradhan/eda-on-amazon-top-50-bestselling-books-2009-2019/data # dataset "
      ],
      "metadata": {
        "id": "YTKECtRGk39o"
      },
      "execution_count": null,
      "outputs": []
    },
    {
      "cell_type": "code",
      "source": [
        "from google.colab import files\n",
        "uploaded = files.upload()"
      ],
      "metadata": {
        "id": "jMWbj7FkbKxT"
      },
      "execution_count": null,
      "outputs": []
    },
    {
      "cell_type": "code",
      "source": [
        "books = pd.read_csv(\"/content/bestsellers with categories.xls\")\n",
        "books.head()"
      ],
      "metadata": {
        "id": "d0WwNg6sb5BF"
      },
      "execution_count": null,
      "outputs": []
    },
    {
      "cell_type": "code",
      "source": [
        "books.tail()"
      ],
      "metadata": {
        "id": "erz9JTK9ctrE"
      },
      "execution_count": null,
      "outputs": []
    },
    {
      "cell_type": "markdown",
      "source": [
        "# The .info() function is used to get additional details about these features as shown. It can be inferred from this that there are 4 numerical features and 3 categorical features by referring to their data types."
      ],
      "metadata": {
        "id": "60zntJycc-do"
      }
    },
    {
      "cell_type": "code",
      "source": [
        "books.info()"
      ],
      "metadata": {
        "id": "XmY8BbCjcvIg"
      },
      "execution_count": null,
      "outputs": []
    },
    {
      "cell_type": "markdown",
      "source": [
        "# Getting insights and visualizations\n",
        "\n",
        "Now let’s get some statistics for the given features using .describe(),\n",
        "\n",
        "# Numerical features statistics"
      ],
      "metadata": {
        "id": "O39eCgn9dW-c"
      }
    },
    {
      "cell_type": "code",
      "source": [
        "books.describe()"
      ],
      "metadata": {
        "id": "vLrhIqnNdcOm"
      },
      "execution_count": null,
      "outputs": []
    },
    {
      "cell_type": "markdown",
      "source": [
        "# Categorical Features "
      ],
      "metadata": {
        "id": "OridIbjXdwtA"
      }
    },
    {
      "cell_type": "code",
      "source": [
        "books.describe(include='object')"
      ],
      "metadata": {
        "id": "taNBLSeqd2Xi"
      },
      "execution_count": null,
      "outputs": []
    },
    {
      "cell_type": "markdown",
      "source": [
        "# Using value_count() to get the count of fiction and non-fiction in genre column and visualizing it using seaborn’s countplot function:"
      ],
      "metadata": {
        "id": "DydJWp5ueKVy"
      }
    },
    {
      "cell_type": "code",
      "source": [
        "genre_counts=books.Genre.value_counts()\n",
        "genre_counts"
      ],
      "metadata": {
        "id": "xB0f3eg8eLMK"
      },
      "execution_count": null,
      "outputs": []
    },
    {
      "cell_type": "markdown",
      "source": [
        "# Let’s analyze two features together and see the results, here number of reviews are plotted against genre, and it can be clearly seen fiction books have a greater number of reviews than non-fiction books."
      ],
      "metadata": {
        "id": "Vcgc-1y5etcy"
      }
    },
    {
      "cell_type": "code",
      "source": [
        "plt.title('Fiction vs Non Fiction')\n",
        "sns.countplot(x='Genre', data=books)"
      ],
      "metadata": {
        "id": "Wz39cJcEeu_y"
      },
      "execution_count": null,
      "outputs": []
    },
    {
      "cell_type": "code",
      "source": [
        "plt.figure(figsize=(7,7))\n",
        "plt.title(\"Genre v/s Reviews\")\n",
        "sns.barplot(x = 'Genre',\n",
        "            y = 'Reviews',\n",
        "            data = books);"
      ],
      "metadata": {
        "id": "FY4eE1R6fWCE"
      },
      "execution_count": null,
      "outputs": []
    },
    {
      "cell_type": "markdown",
      "source": [
        "# We can also implement boxplots for visualizing the distribution of books across various features, as an example here, the price distribution of books is shown across the genre and price"
      ],
      "metadata": {
        "id": "bG1o5x2XfixJ"
      }
    },
    {
      "cell_type": "code",
      "source": [
        "plt.figure(figsize = (9,4))\n",
        "sns.boxplot(data =books,x = 'Price',y =\"Genre\")\n",
        "plt.title(\"Genre-wise Distribution of Price\", fontsize = 18)\n",
        "plt.ylabel(\"Genre\", fontsize = 15)\n",
        "plt.xlabel(\"Price\",fontsize = 15)\n",
        "plt.show()"
      ],
      "metadata": {
        "id": "0dkXvOJwfki2"
      },
      "execution_count": null,
      "outputs": []
    },
    {
      "cell_type": "markdown",
      "source": [
        "# Next up, a double bar plot is shown, they can come in handy in cases like these when we have two sets of data such as fictional and non-fictional books here. So, the data both of these sets can be visualized in one plot."
      ],
      "metadata": {
        "id": "NsbzIdU1f6z-"
      }
    },
    {
      "cell_type": "code",
      "source": [
        "books_price = books.sort_values(\"Price\", ascending= False)[['Author', 'Price', 'Genre', 'Reviews']].head(20)\n",
        "plt.xticks(rotation = 90)   \n",
        "sns.barplot(x = 'Author', \n",
        "            y = 'Reviews', \n",
        "            data = books_price, hue = \"Genre\");"
      ],
      "metadata": {
        "id": "ge6bzMaZf75m"
      },
      "execution_count": null,
      "outputs": []
    },
    {
      "cell_type": "markdown",
      "source": [
        "# Here .sort_values function is used to first sort the data by price of the books in descending order and then the top 20 of those are included in the newly created dataframe ‘books_price’"
      ],
      "metadata": {
        "id": "xHCdI-IQhW8K"
      }
    },
    {
      "cell_type": "code",
      "source": [
        "books_price"
      ],
      "metadata": {
        "id": "538O9t5HhbRb"
      },
      "execution_count": null,
      "outputs": []
    },
    {
      "cell_type": "markdown",
      "source": [
        "# It is also seen that there are recurrent values in this particular dataframe, which can be removed by drop_duplicates() function to have a clear picture of what one is dealing with."
      ],
      "metadata": {
        "id": "vhhoFzX3h0Lr"
      }
    },
    {
      "cell_type": "code",
      "source": [
        "books_price.drop_duplicates()"
      ],
      "metadata": {
        "id": "x8TFQEOLh1fO"
      },
      "execution_count": null,
      "outputs": []
    },
    {
      "cell_type": "markdown",
      "source": [
        "# We can also explore the statistics of each feature exclusively, such as of Price shown below:"
      ],
      "metadata": {
        "id": "rqUq-coaiFSB"
      }
    },
    {
      "cell_type": "code",
      "source": [
        "print(books.Price.describe())\n",
        "print()\n",
        "books.Price.plot(bins=50, kind='hist')"
      ],
      "metadata": {
        "id": "wPJ_IDlqiGLg"
      },
      "execution_count": null,
      "outputs": []
    },
    {
      "cell_type": "markdown",
      "source": [
        "# It is observed from the statistics of price that the minimum value of price in the dataframe is ‘0’. This is not desired as prices of bestseller books cannot be ‘0’. To fix this problem, we first look at the count of ‘0’ values in the price column:"
      ],
      "metadata": {
        "id": "MX9ri-MGibZT"
      }
    },
    {
      "cell_type": "code",
      "source": [
        "books.Price.value_counts()[0]"
      ],
      "metadata": {
        "id": "M-BzyPzlicHO"
      },
      "execution_count": null,
      "outputs": []
    },
    {
      "cell_type": "markdown",
      "source": [
        "# Next, we use the map function to map all ‘0’ values with the median of the price values which is basically replacing the values:"
      ],
      "metadata": {
        "id": "3QhzEUJiinwz"
      }
    },
    {
      "cell_type": "code",
      "source": [
        "books['Price'] = books['Price'].map( lambda x : books.Price.median() \n",
        "if x == 0 else x)\n",
        "books.Price.min()"
      ],
      "metadata": {
        "id": "MBnE4OnXioic"
      },
      "execution_count": null,
      "outputs": []
    },
    {
      "cell_type": "markdown",
      "source": [
        "# If we check the minimum now, it is no longer 0.\n",
        "\n",
        "Sometimes, we exclusively want to analyze a particular category, and hence to ease this purpose, the dataset can be divided into sub-datasets. There are many ways to do this but here it is split into fiction and non-fiction using nesting amongst the dataframe:"
      ],
      "metadata": {
        "id": "qm6h1PGki5HS"
      }
    },
    {
      "cell_type": "code",
      "source": [
        "df_fiction=books[books[\"Genre\"]==\"Fiction\"]\n",
        "df_nonfiction=books[books[\"Genre\"]==\"Non Fiction\"]"
      ],
      "metadata": {
        "id": "dsDlFIxhi6P8"
      },
      "execution_count": null,
      "outputs": []
    },
    {
      "cell_type": "markdown",
      "source": [
        "# Now we can keep other features common and use the same functions to get individual insights for each category, for example the top authors in each genre:"
      ],
      "metadata": {
        "id": "l0FQFvE8jFMQ"
      }
    },
    {
      "cell_type": "code",
      "source": [
        "df_fiction.Author.value_counts()"
      ],
      "metadata": {
        "id": "Tn3N3GytjGcW"
      },
      "execution_count": null,
      "outputs": []
    },
    {
      "cell_type": "markdown",
      "source": [
        "# It is also possible to split data into ranges to get meaningful insights, here the Price values are divided into three ranges as shown using cut function from pandas and a new feature called PriceRange is made. This is used to get a distribution of reviews depending on the price, and clearly low-priced books have the highest number of reviews."
      ],
      "metadata": {
        "id": "ZZ7wlkhrjqEL"
      }
    },
    {
      "cell_type": "code",
      "source": [
        "books['PriceRange'] = pd.cut(books['Price'], 3,labels=['low range <= $35','mid range<=$70','high range <=$150'])\n",
        "books[['PriceRange', 'Reviews']].groupby(['PriceRange'], as_index=False).mean().sort_values(by='PriceRange', ascending=True)"
      ],
      "metadata": {
        "id": "mWlhPK0bjq8n"
      },
      "execution_count": null,
      "outputs": []
    },
    {
      "cell_type": "markdown",
      "source": [
        "# This is visualized using Seaborn’s boxplot, again to get an idea about how the reviews are distributed across ranges."
      ],
      "metadata": {
        "id": "g-1uRFsDkEfJ"
      }
    },
    {
      "cell_type": "code",
      "source": [
        "plt.figure(figsize=(10,10))\n",
        "sns.boxplot(x=books['PriceRange'],y=books['Reviews'])\n",
        "plt.ylim(0, 50000)"
      ],
      "metadata": {
        "id": "tYe2xxQWkFS6"
      },
      "execution_count": null,
      "outputs": []
    },
    {
      "cell_type": "markdown",
      "source": [
        "#  Just the beginning😎\n",
        "\n",
        "In this way, we can go on and on about data exploration, applying functions, creating new features or modifying the existing ones and deriving insights. The possibilities are endless. The foremost important thing to keep in mind is the purpose, when one has a well-defined end goal, it becomes easy to carve the way to accomplish the task at hand.\n",
        "\n",
        "No business can draw any assumptions with raw data, an exhaustive approach like EDA thus becomes an integral part before moving on to the modelling part of the work.\n"
      ],
      "metadata": {
        "id": "qTjRCWWDkQwH"
      }
    }
  ]
}