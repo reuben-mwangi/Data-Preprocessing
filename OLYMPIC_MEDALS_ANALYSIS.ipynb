{
  "nbformat": 4,
  "nbformat_minor": 0,
  "metadata": {
    "colab": {
      "private_outputs": true,
      "provenance": [],
      "authorship_tag": "ABX9TyOsE+BVEMz/SehDtQ3I+raU",
      "include_colab_link": true
    },
    "kernelspec": {
      "name": "python3",
      "display_name": "Python 3"
    },
    "language_info": {
      "name": "python"
    }
  },
  "cells": [
    {
      "cell_type": "markdown",
      "metadata": {
        "id": "view-in-github",
        "colab_type": "text"
      },
      "source": [
        "<a href=\"https://colab.research.google.com/github/reuben-mwangi/Data-Preprocessing/blob/main/OLYMPIC_MEDALS_ANALYSIS.ipynb\" target=\"_parent\"><img src=\"https://colab.research.google.com/assets/colab-badge.svg\" alt=\"Open In Colab\"/></a>"
      ]
    },
    {
      "cell_type": "markdown",
      "source": [],
      "metadata": {
        "id": "f58837HawjQO"
      }
    },
    {
      "cell_type": "markdown",
      "source": [
        "# Table of content\n",
        "\n",
        "1 Section 1: Introduction\n",
        "\n",
        "  Section 1.1: Outline\n",
        "\n",
        "  Section 1.2: Loading Dataset\n",
        "\n",
        "2 Section 2: Understanding the data\n",
        "\n",
        "  Section 2.1: Cleaning the dataset\n",
        "\n",
        "3 Section 3: Performing Exploratory Data Analysis\n",
        "\n",
        "  Section 3.1: Creating Highliting tables to show full analysis\n",
        "\n",
        "  Section 3.2: Creating a filled Map to show the total Medal analysis\n",
        "\n",
        "\n",
        "\n",
        "End\n",
        "\n",
        "\n",
        "\n",
        "\n",
        "\n",
        "\n"
      ],
      "metadata": {
        "id": "faZyKi-MwjTf"
      }
    },
    {
      "cell_type": "markdown",
      "source": [
        "# Section 1:Introduction\n",
        "\n",
        "This notebook presents an analysis of the OLYMPIC MEDALS data, which shows the characteristics of different countries and years. The aim of the  analysis is to try understands the data more and try create atleast two good visualization to assist us make informed decisions.\n"
      ],
      "metadata": {
        "id": "BMyJ2uKBzTio"
      }
    },
    {
      "cell_type": "markdown",
      "source": [
        "# Section 1.1: Outline\n",
        "\n",
        "section 2 loads the data sets and plot the distribution of continuous varaiables and assess the relationships that exists between the continous and their linear correlation. Section 3,plots the distribution of the categorical variables."
      ],
      "metadata": {
        "id": "xLysFe6e0A72"
      }
    },
    {
      "cell_type": "markdown",
      "source": [
        "# Section 1.2: Loading the Data\n",
        "The data is loaded from a CSV file."
      ],
      "metadata": {
        "id": "6Ax9AmlQ0vFz"
      }
    },
    {
      "cell_type": "code",
      "source": [
        "# start by importing necessary libraries\n",
        "import numpy as np\n",
        "import pandas as pd\n",
        "import matplotlib.pyplot as plt\n",
        "import seaborn as sns# this is an additional plotting libraries\n",
        "import scipy.stats as stats\n",
        "%matplotlib inline\n",
        "import warnings\n",
        "warnings.filterwarnings(\"ignore\")\n",
        "import pycountry\n",
        "import plotly.express as px\n",
        "from plotly.offline import init_notebook_mode, iplot\n",
        "\n",
        "\n"
      ],
      "metadata": {
        "id": "o6RRyN5Iz3jh"
      },
      "execution_count": null,
      "outputs": []
    },
    {
      "cell_type": "markdown",
      "source": [
        "We will start by importing the data into a pandas dataframe and inspect its proprties."
      ],
      "metadata": {
        "id": "AQpmYte316Ns"
      }
    },
    {
      "cell_type": "code",
      "source": [
        "df = pd.read_csv(\"/content/olympics_medals_country_wise.csv\")"
      ],
      "metadata": {
        "id": "kaBfNfDr2G3Z"
      },
      "execution_count": null,
      "outputs": []
    },
    {
      "cell_type": "code",
      "source": [
        "df.head()"
      ],
      "metadata": {
        "id": "2A1ahV5G2n58"
      },
      "execution_count": null,
      "outputs": []
    },
    {
      "cell_type": "code",
      "source": [
        "df.shape"
      ],
      "metadata": {
        "id": "7JVX79eM2n3T"
      },
      "execution_count": null,
      "outputs": []
    },
    {
      "cell_type": "markdown",
      "source": [
        "so now the data is in rectangular form with 156 entries each having 17 distinct properties."
      ],
      "metadata": {
        "id": "ugN_CEl122Z8"
      }
    },
    {
      "cell_type": "markdown",
      "source": [
        "# Section 2: Cleaning the data and Understanding the data set\n"
      ],
      "metadata": {
        "id": "H3JkS08VMuJI"
      }
    },
    {
      "cell_type": "code",
      "source": [
        "columns =list(df.columns)\n",
        "columns"
      ],
      "metadata": {
        "id": "XtlL1Hh-20Qe"
      },
      "execution_count": null,
      "outputs": []
    },
    {
      "cell_type": "markdown",
      "source": [
        "We can describe the properties of this dataframe like column datatype etc."
      ],
      "metadata": {
        "id": "NJDoSle43RmS"
      }
    },
    {
      "cell_type": "code",
      "source": [
        "df.info()"
      ],
      "metadata": {
        "id": "OW3zw42O3alz"
      },
      "execution_count": null,
      "outputs": []
    },
    {
      "cell_type": "code",
      "source": [
        "df.isna().sum()"
      ],
      "metadata": {
        "id": "Hdda-rjP3crZ"
      },
      "execution_count": null,
      "outputs": []
    },
    {
      "cell_type": "markdown",
      "source": [
        "If we check the data to see if there are any missing values,it can be noted that the columns has no missing values. Since we are exploring both categorical and continous features we split the two into two.\n",
        "One dataframe should contain the continous features and one should have the categorical features. We employ the unique method,it can be easy for us to identify columns that are categorical and columns that are numeric.\n"
      ],
      "metadata": {
        "id": "zw5f9-u43uiF"
      }
    },
    {
      "cell_type": "code",
      "source": [
        "# first we check the number of unique value in each column\n",
        "df.nunique(axis=0)"
      ],
      "metadata": {
        "id": "Z1iHKPSz3sPi"
      },
      "execution_count": null,
      "outputs": []
    },
    {
      "cell_type": "code",
      "source": [
        "df.columns"
      ],
      "metadata": {
        "id": "OFbAp7Av5NqZ"
      },
      "execution_count": null,
      "outputs": []
    },
    {
      "cell_type": "markdown",
      "source": [
        "Here Columns summer_gold, summer_total, total_gold and total_total consists int Dtype, but here showing object type. Need to check these columns why it is showing object Dtype and convert object data types which are suppose to be integers."
      ],
      "metadata": {
        "id": "bhm2VCcr_NJC"
      }
    },
    {
      "cell_type": "code",
      "source": [
        "clm=['summer_gold', 'summer_total', 'total_gold', 'total_total ' ]"
      ],
      "metadata": {
        "id": "128Fvp16AH8s"
      },
      "execution_count": null,
      "outputs": []
    },
    {
      "cell_type": "code",
      "source": [
        "def fun(x):\n",
        "    return x.replace(\",\", \"\")"
      ],
      "metadata": {
        "id": "bPuQuU3VAADW"
      },
      "execution_count": null,
      "outputs": []
    },
    {
      "cell_type": "code",
      "source": [
        "for x in clm:\n",
        "  df[x]=df[x].apply(fun)"
      ],
      "metadata": {
        "id": "hi9i8ZZGADXL"
      },
      "execution_count": null,
      "outputs": []
    },
    {
      "cell_type": "code",
      "source": [
        "df[\"summer_gold\"]=df[\"summer_gold\"].astype(int)\n",
        "df['summer_total']=df['summer_total'].astype(int)\n",
        "df['total_total ']=df['total_total '].astype(int)\n",
        "df['total_gold']=df['total_gold'].astype(int)"
      ],
      "metadata": {
        "id": "NXr5Eib6ATz1"
      },
      "execution_count": null,
      "outputs": []
    },
    {
      "cell_type": "markdown",
      "source": [
        "From the analysis results we have two columns that are categorical and the rest continous variables."
      ],
      "metadata": {
        "id": "fQw4x4oi8sP2"
      }
    },
    {
      "cell_type": "code",
      "source": [
        "df.info()"
      ],
      "metadata": {
        "id": "zzPQLwSoAt3Z"
      },
      "execution_count": null,
      "outputs": []
    },
    {
      "cell_type": "code",
      "source": [
        "df.describe()"
      ],
      "metadata": {
        "id": "RwzTw2-sBurf"
      },
      "execution_count": null,
      "outputs": []
    },
    {
      "cell_type": "code",
      "source": [
        "c_list=df['countries '].to_list()"
      ],
      "metadata": {
        "id": "4xstp3lmHe5R"
      },
      "execution_count": null,
      "outputs": []
    },
    {
      "cell_type": "code",
      "source": [
        "country_codes = {}\n",
        "for country in c_list:\n",
        "    try:\n",
        "        country_data = pycountry.countries.search_fuzzy(country)\n",
        "        country_code = country_data[0].alpha_3\n",
        "        country_codes.update({country: country_code})\n",
        "    except:\n",
        "        country_codes.update({country: ' '})"
      ],
      "metadata": {
        "id": "2hrc0gvMHgwC"
      },
      "execution_count": null,
      "outputs": []
    },
    {
      "cell_type": "code",
      "source": [
        "for k, v in country_codes.items():\n",
        "    df.loc[(df['countries '] == k), 'iso_alpha_3'] = v"
      ],
      "metadata": {
        "id": "xaeqqDbeHlpO"
      },
      "execution_count": null,
      "outputs": []
    },
    {
      "cell_type": "markdown",
      "source": [
        "Dropping rows which do not have alpha codes"
      ],
      "metadata": {
        "id": "l48Iwf8wHuc-"
      }
    },
    {
      "cell_type": "code",
      "source": [
        "s = pd.Series(country_codes.keys())\n",
        "s = s[pd.Series(country_codes.values())!= ' ']"
      ],
      "metadata": {
        "id": "f_PIj0d6H1ln"
      },
      "execution_count": null,
      "outputs": []
    },
    {
      "cell_type": "code",
      "source": [],
      "metadata": {
        "id": "IQapCmewH1h1"
      },
      "execution_count": null,
      "outputs": []
    },
    {
      "cell_type": "markdown",
      "source": [
        "# Section 3: Performing Exploratory Data Analysis\n",
        "\n",
        "Creating filled Maps and Highlighted tables to show the overall performance of different countries.\n"
      ],
      "metadata": {
        "id": "dablTzgOCjr9"
      }
    },
    {
      "cell_type": "code",
      "source": [
        "df_total = df.loc[:,['countries ','total_gold', 'total_silver', 'total_bronze', 'total_total ']][df['countries '].isin(s)]\n",
        "df_total = df_total.sort_values(by='total_total ', ascending=False).set_index(pd.Index(range(1, df_total.shape[0]+1)))\n",
        "df_total.index.name = 'Rank'\n",
        "df_total.rename(columns = {'countries ':'Countries', 'total_gold':'Gold', 'total_silver':'Silver', 'total_bronze':'Bronze', 'total_total ':'Total'}, inplace = True)\n",
        "df_total = df_total.style.background_gradient(subset='Total', cmap='plasma_r')\n",
        "df_total"
      ],
      "metadata": {
        "id": "CCJRGbcvK3Zn"
      },
      "execution_count": null,
      "outputs": []
    },
    {
      "cell_type": "markdown",
      "source": [
        "From the results of the total analysis,United states ,Great Britain,Germany,France,Italy,China,and Sweden had the highest number of participation and highest number of Medals won."
      ],
      "metadata": {
        "id": "AKrJQvrkLRe7"
      }
    },
    {
      "cell_type": "code",
      "source": [
        "col = ['summer_participations', 'summer_total',\n",
        "       'winter_participations', 'winter_total', 'total_participation', 'total_total ']\n",
        "hover = [[], ['summer_gold', 'summer_silver', 'summer_bronze', 'summer_total'], [], ['winter_gold', 'winter_silver', 'winter_bronze', 'winter_total'], [], ['total_gold', 'total_silver', 'total_bronze', 'total_total ']]\n",
        "_color = ['reds', 'Tealgrn', 'sunsetdark']\n",
        "lim = [(0, 30), (0, 2700), (0, 30), (0, 500), (0, 60), (0, 3000)]\n",
        "_label = [ 'Total Participations',\"Total Participants\" ,'Total Medals']\n",
        "for i, l, h, j, _ in zip(col, lim, hover, range(len(_color)*2), _label):\n",
        "    fig = px.choropleth(data_frame = df,\n",
        "                        locations= \"iso_alpha_3\",\n",
        "                        color= str(i),\n",
        "                        range_color=l,\n",
        "                        hover_name= \"countries \",\n",
        "                        hover_data=h,\n",
        "                        color_continuous_scale= _color[j//2],\n",
        "                        labels={i:''},\n",
        "                        title=_\n",
        "                        )\n",
        "\n",
        "    fig.show()"
      ],
      "metadata": {
        "id": "FFXNgGQMHKbM"
      },
      "execution_count": null,
      "outputs": []
    },
    {
      "cell_type": "markdown",
      "source": [
        "United state is the best country in the total numbers of Medals bagged as shown in the interactive map"
      ],
      "metadata": {
        "id": "o_i3RRQlMJ0-"
      }
    }
  ]
}