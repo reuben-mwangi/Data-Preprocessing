{
  "nbformat": 4,
  "nbformat_minor": 0,
  "metadata": {
    "colab": {
      "private_outputs": true,
      "provenance": [],
      "authorship_tag": "ABX9TyNaN4ADHyMOPPGl9Q5b8HbE",
      "include_colab_link": true
    },
    "kernelspec": {
      "name": "python3",
      "display_name": "Python 3"
    },
    "language_info": {
      "name": "python"
    }
  },
  "cells": [
    {
      "cell_type": "markdown",
      "metadata": {
        "id": "view-in-github",
        "colab_type": "text"
      },
      "source": [
        "<a href=\"https://colab.research.google.com/github/reuben-mwangi/Data-Preprocessing/blob/main/Web_Scraping_using_pandas.ipynb\" target=\"_parent\"><img src=\"https://colab.research.google.com/assets/colab-badge.svg\" alt=\"Open In Colab\"/></a>"
      ]
    },
    {
      "cell_type": "markdown",
      "source": [
        "# Web Scraping data using pandas in python\n",
        "Pandas makes it easy to scrape a table (<table> tag) on a web page. After obtaining it as a DataFrame, it is of course possible to do various processing and save it as an Excel file or csv file.\n",
        "\n"
      ],
      "metadata": {
        "id": "bFpfqfDiMGGj"
      }
    },
    {
      "cell_type": "markdown",
      "source": [
        "loading libraries and scrape"
      ],
      "metadata": {
        "id": "GgVIUvS-MPFb"
      }
    },
    {
      "cell_type": "code",
      "source": [
        "import pandas as pd"
      ],
      "metadata": {
        "id": "dpl16xQ_MMdY"
      },
      "execution_count": null,
      "outputs": []
    },
    {
      "cell_type": "code",
      "source": [
        "df = pd.read_html(\"https://en.wikipedia.org/wiki/List_of_Game_of_Thrones_episodes\")[1]\n",
        "df"
      ],
      "metadata": {
        "id": "9hyrSVHzMXG3"
      },
      "execution_count": null,
      "outputs": []
    },
    {
      "cell_type": "markdown",
      "source": [
        "Creating a function to read the data"
      ],
      "metadata": {
        "id": "cFUinstiSpA_"
      }
    },
    {
      "cell_type": "code",
      "source": [
        "append_data = []\n",
        "for i in range(1,8):\n",
        "  append_data.append(pd.read_html(\"https://en.wikipedia.org/wiki/List_of_Game_of_Thrones_episodes\")[i])"
      ],
      "metadata": {
        "id": "T7YcHSfTOKHY"
      },
      "execution_count": null,
      "outputs": []
    },
    {
      "cell_type": "code",
      "source": [
        "df = pd.concat(append_data)\n",
        "df"
      ],
      "metadata": {
        "id": "7fMT0UzNOw4r"
      },
      "execution_count": null,
      "outputs": []
    },
    {
      "cell_type": "code",
      "source": [
        "df.info()"
      ],
      "metadata": {
        "id": "itOZ5dMBPUWn"
      },
      "execution_count": null,
      "outputs": []
    },
    {
      "cell_type": "code",
      "source": [
        "df[\"U.S. viewers(millions)\"] = [x[:4]for x in df[\"U.S. viewers(millions)\"]]\n",
        "df[\"U.S. viewers(millions)\"] = pd.to_numeric(df[\"U.S. viewers(millions)\"])"
      ],
      "metadata": {
        "id": "D3v-IeTbO-mA"
      },
      "execution_count": null,
      "outputs": []
    },
    {
      "cell_type": "code",
      "source": [
        "df.info()"
      ],
      "metadata": {
        "id": "C0NGX9_uQCuY"
      },
      "execution_count": null,
      "outputs": []
    },
    {
      "cell_type": "code",
      "source": [
        "df.head()"
      ],
      "metadata": {
        "id": "3OwCJDYxQFuJ"
      },
      "execution_count": null,
      "outputs": []
    },
    {
      "cell_type": "code",
      "source": [
        "import plotly.express as go"
      ],
      "metadata": {
        "id": "3sMH5MGfQJr2"
      },
      "execution_count": null,
      "outputs": []
    },
    {
      "cell_type": "code",
      "source": [
        "go.bar(df,x= \"No.overall\",y = \"U.S. viewers(millions)\")"
      ],
      "metadata": {
        "id": "ReozUz6vQO7K"
      },
      "execution_count": null,
      "outputs": []
    },
    {
      "cell_type": "code",
      "source": [
        "df.head()"
      ],
      "metadata": {
        "id": "519-6Mv9QlT4"
      },
      "execution_count": null,
      "outputs": []
    },
    {
      "cell_type": "code",
      "source": [
        "group=df.groupby(\"No. inseason\",as_index =False)[\"U.S. viewers(millions)\"].mean()\n",
        "go.bar(group,x= \"No. inseason\",y = \"U.S. viewers(millions)\")"
      ],
      "metadata": {
        "id": "-I4fvmd2QrTQ"
      },
      "execution_count": null,
      "outputs": []
    }
  ]
}